{
 "metadata": {
  "name": "",
  "signature": "sha256:92ddcae1259b0a84a7084c4878feefa2f01c913c70973c17d1a0561b886218ab"
 },
 "nbformat": 3,
 "nbformat_minor": 0,
 "worksheets": [
  {
   "cells": [
    {
     "cell_type": "code",
     "collapsed": false,
     "input": [
      "q = \"\uc7a5\uc5b4\"\n",
      "\n",
      "table = ListTable()\n",
      "table.append(['rank','\ub178\uc5b4\ubdf0\uc9d5\ud544\ud130', '\uc5b4\ubdf0\uc9d5\ud544\ud130'])\n",
      "\n",
      "subkeys2 = dic_pair2[q].split(\",\")\n",
      "subkeys1 = dic_pair[q].split(\",\")\n",
      "\n",
      "for i in xrange(30):\n",
      "   \n",
      "    try:\n",
      "        x = subkeys2[i]\n",
      "        y = subkeys1[i]\n",
      "        table.append([i+1, x, y])\n",
      "        \n",
      "    except:\n",
      "        continue\n",
      "    \n",
      "table"
     ],
     "language": "python",
     "metadata": {},
     "outputs": [
      {
       "html": [
        "<table><tr><td>rank</td><td>\ub178\uc5b4\ubdf0\uc9d5\ud544\ud130</td><td>\uc5b4\ubdf0\uc9d5\ud544\ud130</td></tr><tr><td>1</td><td>\uc790\ubabd</td><td>\ubbfc\ubb3c\uc7a5\uc5b4</td></tr><tr><td>2</td><td>\ubbfc\ubb3c\uc7a5\uc5b4</td><td>\uc7a5\uc5b4\uad6c\uc774</td></tr><tr><td>3</td><td>\uc7a5\uc5b4\uad6c\uc774</td><td>\uc7a5\uc5b4\ud6a8\ub2a5</td></tr><tr><td>4</td><td>\uc7a5\uc5b4\ud6a8\ub2a5</td><td>\ubc14\ub2e4\uc7a5\uc5b4</td></tr><tr><td>5</td><td>\ubc14\ub2e4\uc7a5\uc5b4</td><td>\uc7a5\uc5b4\uc885\ub958</td></tr><tr><td>6</td><td>\ud574\ub0a8\uc808\uc784\ubc30\ucd94</td><td>\uc7a5\uc5b4\uc694\ub9ac</td></tr><tr><td>7</td><td>\uc7a5\uc5b4\uc885\ub958</td><td>\ud48d\ucc9c\uc7a5\uc5b4</td></tr><tr><td>8</td><td>\uc7a5\uc5b4\ub9db\uc9d1</td><td>\ud1b5\uc601\uc7a5\uc5b4</td></tr><tr><td>9</td><td>\ud1b5\uc601\uc7a5\uc5b4</td><td>\uc7a5\uc5b4\ub09a\uc2dc</td></tr><tr><td>10</td><td>\uc7a5\uc5b4\uc694\ub9ac</td><td>\uc7a5\uc5b4\uac00\uaca9</td></tr><tr><td>11</td><td>\ud48d\ucc9c\uc7a5\uc5b4</td><td>\uc7a5\uc5b4\uce90\ub9ad\ud130</td></tr><tr><td>12</td><td>\ucc44\uc18c</td><td>\ubd95\uc7a5\uc5b4</td></tr><tr><td>13</td><td>\uc7a5\uc5b4\ub09a\uc2dc</td><td>\uc7a5\uc5b4\uc999</td></tr><tr><td>14</td><td>\ubd95\uc7a5\uc5b4</td><td>\ubc40\uc7a5\uc5b4</td></tr><tr><td>15</td><td>\uc7a5\uc5b4\uac00\uaca9</td><td>\uc544\ub098\uace0</td></tr><tr><td>16</td><td>\uc7a5\uc5b4\uc999</td><td>\uc7a5\uc5b4\uc758\ud6a8\ub2a5</td></tr><tr><td>17</td><td>\uc7a5\uc5b4\uce90\ub9ad\ud130</td><td>\uc7a5\uc5b4\ud0d5</td></tr><tr><td>18</td><td>\ubc40\uc7a5\uc5b4</td><td>\uaf3c\uc7a5\uc5b4</td></tr><tr><td>19</td><td>\uc544\ub098\uace0</td><td>\uc7a5\uc5b4\uc591\uc2dd</td></tr><tr><td>20</td><td>\uc7a5\uc5b4\ud0d5</td><td>\uc7a5\uc5b4\uc0ac\uc9c4</td></tr><tr><td>21</td><td>\uc7a5\uc5b4\uc758\ud6a8\ub2a5</td><td>\uac2f\uc7a5\uc5b4</td></tr><tr><td>22</td><td>\uaf3c\uc7a5\uc5b4</td><td>\ud648\uc1fc\ud551\uc7a5\uc5b4</td></tr><tr><td>23</td><td>\uac2f\uc7a5\uc5b4</td><td>\uc7a5\uc5b4\uadf8\ub9bc</td></tr><tr><td>24</td><td>\uc7a5\uc5b4\uc591\uc2dd</td><td>\uace0\ucc3d\uc7a5\uc5b4</td></tr><tr><td>25</td><td>\uc7a5\uc5b4\uc0ac\uc9c4</td><td>\ub300\uad6c\uc7a5\uc5b4</td></tr><tr><td>26</td><td>\uace0\ucc3d\uc7a5\uc5b4</td><td>\uc7a5\uc5b4\uce7c\ub85c\ub9ac</td></tr><tr><td>27</td><td>\ud648\uc1fc\ud551\uc7a5\uc5b4</td><td>\uc7a5\uc5b4\ubb34\ud55c\ub9ac\ud544</td></tr><tr><td>28</td><td>\uc7a5\uc5b4\uadf8\ub9bc</td><td>\ub300\uc804\uc7a5\uc5b4</td></tr><tr><td>29</td><td>\uc7a5\uc5b4\uce7c\ub85c\ub9ac</td><td>\ubbfc\ubb3c\uc7a5\uc5b4\ud6a8\ub2a5</td></tr><tr><td>30</td><td>\ub300\uad6c\uc7a5\uc5b4</td><td>\ubb34\ud55c\uc7a5\uc5b4</td></tr></table>"
       ],
       "metadata": {},
       "output_type": "pyout",
       "prompt_number": 57,
       "text": [
        "[['rank',\n",
        "  '\\xeb\\x85\\xb8\\xec\\x96\\xb4\\xeb\\xb7\\xb0\\xec\\xa7\\x95\\xed\\x95\\x84\\xed\\x84\\xb0',\n",
        "  '\\xec\\x96\\xb4\\xeb\\xb7\\xb0\\xec\\xa7\\x95\\xed\\x95\\x84\\xed\\x84\\xb0'],\n",
        " [1,\n",
        "  '\\xec\\x9e\\x90\\xeb\\xaa\\xbd',\n",
        "  '\\xeb\\xaf\\xbc\\xeb\\xac\\xbc\\xec\\x9e\\xa5\\xec\\x96\\xb4'],\n",
        " [2,\n",
        "  '\\xeb\\xaf\\xbc\\xeb\\xac\\xbc\\xec\\x9e\\xa5\\xec\\x96\\xb4',\n",
        "  '\\xec\\x9e\\xa5\\xec\\x96\\xb4\\xea\\xb5\\xac\\xec\\x9d\\xb4'],\n",
        " [3,\n",
        "  '\\xec\\x9e\\xa5\\xec\\x96\\xb4\\xea\\xb5\\xac\\xec\\x9d\\xb4',\n",
        "  '\\xec\\x9e\\xa5\\xec\\x96\\xb4\\xed\\x9a\\xa8\\xeb\\x8a\\xa5'],\n",
        " [4,\n",
        "  '\\xec\\x9e\\xa5\\xec\\x96\\xb4\\xed\\x9a\\xa8\\xeb\\x8a\\xa5',\n",
        "  '\\xeb\\xb0\\x94\\xeb\\x8b\\xa4\\xec\\x9e\\xa5\\xec\\x96\\xb4'],\n",
        " [5,\n",
        "  '\\xeb\\xb0\\x94\\xeb\\x8b\\xa4\\xec\\x9e\\xa5\\xec\\x96\\xb4',\n",
        "  '\\xec\\x9e\\xa5\\xec\\x96\\xb4\\xec\\xa2\\x85\\xeb\\xa5\\x98'],\n",
        " [6,\n",
        "  '\\xed\\x95\\xb4\\xeb\\x82\\xa8\\xec\\xa0\\x88\\xec\\x9e\\x84\\xeb\\xb0\\xb0\\xec\\xb6\\x94',\n",
        "  '\\xec\\x9e\\xa5\\xec\\x96\\xb4\\xec\\x9a\\x94\\xeb\\xa6\\xac'],\n",
        " [7,\n",
        "  '\\xec\\x9e\\xa5\\xec\\x96\\xb4\\xec\\xa2\\x85\\xeb\\xa5\\x98',\n",
        "  '\\xed\\x92\\x8d\\xec\\xb2\\x9c\\xec\\x9e\\xa5\\xec\\x96\\xb4'],\n",
        " [8,\n",
        "  '\\xec\\x9e\\xa5\\xec\\x96\\xb4\\xeb\\xa7\\x9b\\xec\\xa7\\x91',\n",
        "  '\\xed\\x86\\xb5\\xec\\x98\\x81\\xec\\x9e\\xa5\\xec\\x96\\xb4'],\n",
        " [9,\n",
        "  '\\xed\\x86\\xb5\\xec\\x98\\x81\\xec\\x9e\\xa5\\xec\\x96\\xb4',\n",
        "  '\\xec\\x9e\\xa5\\xec\\x96\\xb4\\xeb\\x82\\x9a\\xec\\x8b\\x9c'],\n",
        " [10,\n",
        "  '\\xec\\x9e\\xa5\\xec\\x96\\xb4\\xec\\x9a\\x94\\xeb\\xa6\\xac',\n",
        "  '\\xec\\x9e\\xa5\\xec\\x96\\xb4\\xea\\xb0\\x80\\xea\\xb2\\xa9'],\n",
        " [11,\n",
        "  '\\xed\\x92\\x8d\\xec\\xb2\\x9c\\xec\\x9e\\xa5\\xec\\x96\\xb4',\n",
        "  '\\xec\\x9e\\xa5\\xec\\x96\\xb4\\xec\\xba\\x90\\xeb\\xa6\\xad\\xed\\x84\\xb0'],\n",
        " [12, '\\xec\\xb1\\x84\\xec\\x86\\x8c', '\\xeb\\xb6\\x95\\xec\\x9e\\xa5\\xec\\x96\\xb4'],\n",
        " [13,\n",
        "  '\\xec\\x9e\\xa5\\xec\\x96\\xb4\\xeb\\x82\\x9a\\xec\\x8b\\x9c',\n",
        "  '\\xec\\x9e\\xa5\\xec\\x96\\xb4\\xec\\xa6\\x99'],\n",
        " [14,\n",
        "  '\\xeb\\xb6\\x95\\xec\\x9e\\xa5\\xec\\x96\\xb4',\n",
        "  '\\xeb\\xb1\\x80\\xec\\x9e\\xa5\\xec\\x96\\xb4'],\n",
        " [15,\n",
        "  '\\xec\\x9e\\xa5\\xec\\x96\\xb4\\xea\\xb0\\x80\\xea\\xb2\\xa9',\n",
        "  '\\xec\\x95\\x84\\xeb\\x82\\x98\\xea\\xb3\\xa0'],\n",
        " [16,\n",
        "  '\\xec\\x9e\\xa5\\xec\\x96\\xb4\\xec\\xa6\\x99',\n",
        "  '\\xec\\x9e\\xa5\\xec\\x96\\xb4\\xec\\x9d\\x98\\xed\\x9a\\xa8\\xeb\\x8a\\xa5'],\n",
        " [17,\n",
        "  '\\xec\\x9e\\xa5\\xec\\x96\\xb4\\xec\\xba\\x90\\xeb\\xa6\\xad\\xed\\x84\\xb0',\n",
        "  '\\xec\\x9e\\xa5\\xec\\x96\\xb4\\xed\\x83\\x95'],\n",
        " [18,\n",
        "  '\\xeb\\xb1\\x80\\xec\\x9e\\xa5\\xec\\x96\\xb4',\n",
        "  '\\xea\\xbc\\xbc\\xec\\x9e\\xa5\\xec\\x96\\xb4'],\n",
        " [19,\n",
        "  '\\xec\\x95\\x84\\xeb\\x82\\x98\\xea\\xb3\\xa0',\n",
        "  '\\xec\\x9e\\xa5\\xec\\x96\\xb4\\xec\\x96\\x91\\xec\\x8b\\x9d'],\n",
        " [20,\n",
        "  '\\xec\\x9e\\xa5\\xec\\x96\\xb4\\xed\\x83\\x95',\n",
        "  '\\xec\\x9e\\xa5\\xec\\x96\\xb4\\xec\\x82\\xac\\xec\\xa7\\x84'],\n",
        " [21,\n",
        "  '\\xec\\x9e\\xa5\\xec\\x96\\xb4\\xec\\x9d\\x98\\xed\\x9a\\xa8\\xeb\\x8a\\xa5',\n",
        "  '\\xea\\xb0\\xaf\\xec\\x9e\\xa5\\xec\\x96\\xb4'],\n",
        " [22,\n",
        "  '\\xea\\xbc\\xbc\\xec\\x9e\\xa5\\xec\\x96\\xb4',\n",
        "  '\\xed\\x99\\x88\\xec\\x87\\xbc\\xed\\x95\\x91\\xec\\x9e\\xa5\\xec\\x96\\xb4'],\n",
        " [23,\n",
        "  '\\xea\\xb0\\xaf\\xec\\x9e\\xa5\\xec\\x96\\xb4',\n",
        "  '\\xec\\x9e\\xa5\\xec\\x96\\xb4\\xea\\xb7\\xb8\\xeb\\xa6\\xbc'],\n",
        " [24,\n",
        "  '\\xec\\x9e\\xa5\\xec\\x96\\xb4\\xec\\x96\\x91\\xec\\x8b\\x9d',\n",
        "  '\\xea\\xb3\\xa0\\xec\\xb0\\xbd\\xec\\x9e\\xa5\\xec\\x96\\xb4'],\n",
        " [25,\n",
        "  '\\xec\\x9e\\xa5\\xec\\x96\\xb4\\xec\\x82\\xac\\xec\\xa7\\x84',\n",
        "  '\\xeb\\x8c\\x80\\xea\\xb5\\xac\\xec\\x9e\\xa5\\xec\\x96\\xb4'],\n",
        " [26,\n",
        "  '\\xea\\xb3\\xa0\\xec\\xb0\\xbd\\xec\\x9e\\xa5\\xec\\x96\\xb4',\n",
        "  '\\xec\\x9e\\xa5\\xec\\x96\\xb4\\xec\\xb9\\xbc\\xeb\\xa1\\x9c\\xeb\\xa6\\xac'],\n",
        " [27,\n",
        "  '\\xed\\x99\\x88\\xec\\x87\\xbc\\xed\\x95\\x91\\xec\\x9e\\xa5\\xec\\x96\\xb4',\n",
        "  '\\xec\\x9e\\xa5\\xec\\x96\\xb4\\xeb\\xac\\xb4\\xed\\x95\\x9c\\xeb\\xa6\\xac\\xed\\x95\\x84'],\n",
        " [28,\n",
        "  '\\xec\\x9e\\xa5\\xec\\x96\\xb4\\xea\\xb7\\xb8\\xeb\\xa6\\xbc',\n",
        "  '\\xeb\\x8c\\x80\\xec\\xa0\\x84\\xec\\x9e\\xa5\\xec\\x96\\xb4'],\n",
        " [29,\n",
        "  '\\xec\\x9e\\xa5\\xec\\x96\\xb4\\xec\\xb9\\xbc\\xeb\\xa1\\x9c\\xeb\\xa6\\xac',\n",
        "  '\\xeb\\xaf\\xbc\\xeb\\xac\\xbc\\xec\\x9e\\xa5\\xec\\x96\\xb4\\xed\\x9a\\xa8\\xeb\\x8a\\xa5'],\n",
        " [30,\n",
        "  '\\xeb\\x8c\\x80\\xea\\xb5\\xac\\xec\\x9e\\xa5\\xec\\x96\\xb4',\n",
        "  '\\xeb\\xac\\xb4\\xed\\x95\\x9c\\xec\\x9e\\xa5\\xec\\x96\\xb4']]"
       ]
      }
     ],
     "prompt_number": 57
    },
    {
     "cell_type": "code",
     "collapsed": false,
     "input": [
      "fp = open(\"/Users/sweaterr/projects/data/deep-query-suggest/pair-2014-logtf-no-abusef-cut1-tfidf12\",\"r\")\n",
      "\n",
      "dic_pair = {}\n",
      "for line in fp:\n",
      "    token = line.split(\"\\t\")\n",
      "    if dic_pair.get(token[0]) == None:\n",
      "        dic_pair[token[0]] = token[1]\n",
      "    else:\n",
      "        dic_pair[token[0]] = dic_pair[token[0]] + \",\" + token[1]\n",
      "print len(dic_pair)\n"
     ],
     "language": "python",
     "metadata": {},
     "outputs": [
      {
       "output_type": "stream",
       "stream": "stdout",
       "text": [
        "5171491\n"
       ]
      }
     ],
     "prompt_number": 13
    },
    {
     "cell_type": "code",
     "collapsed": false,
     "input": [
      "fp = open(\"/Users/sweaterr/projects/data/deep-query-suggest/pair-2014-logtf-no-abusef-2cut\",\"r\")\n",
      "\n",
      "dic_pair2 = {}\n",
      "for line in fp:\n",
      "    token = line.split(\"\\t\")\n",
      "    if dic_pair2.get(token[0]) == None:\n",
      "        dic_pair2[token[0]] = token[1]\n",
      "    else:\n",
      "        dic_pair2[token[0]] = dic_pair2[token[0]] + \",\" + token[1]\n",
      "print len(dic_pair2)\n"
     ],
     "language": "python",
     "metadata": {},
     "outputs": [
      {
       "output_type": "stream",
       "stream": "stdout",
       "text": [
        "5290356\n"
       ]
      }
     ],
     "prompt_number": 2
    },
    {
     "cell_type": "code",
     "collapsed": false,
     "input": [
      "class ListTable(list):\n",
      "    \"\"\" Overridden list class which takes a 2-dimensional list of \n",
      "        the form [[1,2,3],[4,5,6]], and renders an HTML Table in \n",
      "        IPython Notebook. \"\"\"\n",
      "    \n",
      "    def _repr_html_(self):\n",
      "        html = [\"<table>\"]\n",
      "        for row in self:\n",
      "            html.append(\"<tr>\")\n",
      "            \n",
      "            for col in row:\n",
      "                html.append(\"<td>{0}</td>\".format(col))\n",
      "            \n",
      "            html.append(\"</tr>\")\n",
      "        html.append(\"</table>\")\n",
      "        return ''.join(html)"
     ],
     "language": "python",
     "metadata": {},
     "outputs": [],
     "prompt_number": 29
    }
   ],
   "metadata": {}
  }
 ]
}