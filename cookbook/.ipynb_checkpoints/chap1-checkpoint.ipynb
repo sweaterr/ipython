{
 "metadata": {
  "name": "",
  "signature": "sha256:0e0f82cec466866058ca7138c08e3d6398110e169b8c24377b27a4b09a527483"
 },
 "nbformat": 3,
 "nbformat_minor": 0,
 "worksheets": [
  {
   "cells": [
    {
     "cell_type": "code",
     "collapsed": false,
     "input": [
      "import numpy as np \n",
      "import pandas as pd \n",
      "import matplotlib.pyplot as plt \n",
      "%matplotlib inline"
     ],
     "language": "python",
     "metadata": {},
     "outputs": [],
     "prompt_number": 1
    },
    {
     "cell_type": "code",
     "collapsed": false,
     "input": [],
     "language": "python",
     "metadata": {},
     "outputs": []
    }
   ],
   "metadata": {}
  }
 ]
}