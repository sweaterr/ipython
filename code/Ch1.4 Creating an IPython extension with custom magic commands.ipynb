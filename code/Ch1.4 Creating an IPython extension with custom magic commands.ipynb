{
 "metadata": {
  "name": "",
  "signature": "sha256:1289a5feca23753436c1b7b80e93d344059039bd5a3d75b5a7489fedf3ab7065"
 },
 "nbformat": 3,
 "nbformat_minor": 0,
 "worksheets": [
  {
   "cells": [
    {
     "cell_type": "code",
     "collapsed": false,
     "input": [
      "from IPython.core.magic import (register_line_magic, register_cell_magic)"
     ],
     "language": "python",
     "metadata": {},
     "outputs": [],
     "prompt_number": 4
    },
    {
     "cell_type": "code",
     "collapsed": false,
     "input": [
      "@register_line_magic \n",
      "def hello(line): \n",
      "    if line == 'french': \n",
      "        print(\"Salut tout le monde!\") \n",
      "    else: \n",
      "        print(\"Hello world!\")\n",
      "        \n",
      "%hello\n",
      "%hello french"
     ],
     "language": "python",
     "metadata": {},
     "outputs": [
      {
       "output_type": "stream",
       "stream": "stdout",
       "text": [
        "Hello world!\n",
        "Salut tout le monde!\n"
       ]
      }
     ],
     "prompt_number": 6
    },
    {
     "cell_type": "code",
     "collapsed": false,
     "input": [
      "import pandas as pd \n",
      "#from StringIO import StringIO # Python 2 \n",
      "from io import StringIO # Python 3 \n",
      "\n",
      "@register_cell_magic \n",
      "def csv(line, cell): \n",
      "    # We create a string buffer containing the \n",
      "    # contents of the cell. \n",
      "    sio = StringIO(cell) \n",
      "    # We use pandas' read_csv function to parse \n",
      "    # the CSV string. \n",
      "    return pd.read_csv(sio)\n",
      "\n",
      "%%csv\n"
     ],
     "language": "python",
     "metadata": {},
     "outputs": [
      {
       "ename": "SyntaxError",
       "evalue": "invalid syntax (<ipython-input-7-8694b007b859>, line 14)",
       "output_type": "pyerr",
       "traceback": [
        "\u001b[0;36m  File \u001b[0;32m\"<ipython-input-7-8694b007b859>\"\u001b[0;36m, line \u001b[0;32m14\u001b[0m\n\u001b[0;31m    %%csv\u001b[0m\n\u001b[0m    ^\u001b[0m\n\u001b[0;31mSyntaxError\u001b[0m\u001b[0;31m:\u001b[0m invalid syntax\n"
       ]
      }
     ],
     "prompt_number": 7
    },
    {
     "cell_type": "code",
     "collapsed": false,
     "input": [],
     "language": "python",
     "metadata": {},
     "outputs": []
    }
   ],
   "metadata": {}
  }
 ]
}