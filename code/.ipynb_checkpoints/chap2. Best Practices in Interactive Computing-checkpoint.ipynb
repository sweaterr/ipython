{
 "metadata": {
  "name": "",
  "signature": "sha256:ece590bf7fde435f5ebba5ac0764bb7e19705ecefd7118b4f6b66d7f6b2dab44"
 },
 "nbformat": 3,
 "nbformat_minor": 0,
 "worksheets": [
  {
   "cells": [
    {
     "cell_type": "markdown",
     "metadata": {},
     "source": [
      "### Writing high-quality Python code \n",
      "1. Learn to write Pythonic code \n",
      "1. Learn common design patterns\n",
      "1. Use assertions throughout your code\n",
      "1. bottom-up approach\n",
      "1. Do not hesitate to refactor your code regularly. If your code is becoming too complicated, think about how you can simplify it.\n",
      "1. Avoid classes when you can. If you can use a function instead of a class\n",
      "1. In general, prefer Python native types (lists, tuples, dictionaries, and types from Python's collections module) \n",
      "1. Name your variables carefully.\n",
      "1. You can check your code automatically against most of the style conventions in PEP8 with the pep8 Python package. Install it with pip install pep8 and execute it with pep8 myscript.py.\n",
      "1. Use a tool for static code analysis such as Pylint (www.pylint.org). It lets you find potential errors or low-quality codestatically, that is, without running your code.\n",
      "1."
     ]
    },
    {
     "cell_type": "markdown",
     "metadata": {},
     "source": [
      "### Writing unit tests with nose"
     ]
    },
    {
     "cell_type": "code",
     "collapsed": false,
     "input": [],
     "language": "python",
     "metadata": {},
     "outputs": []
    },
    {
     "cell_type": "code",
     "collapsed": false,
     "input": [
      "!sudo pip install nose."
     ],
     "language": "python",
     "metadata": {},
     "outputs": [
      {
       "output_type": "stream",
       "stream": "stdout",
       "text": [
        "Password:"
       ]
      }
     ]
    },
    {
     "cell_type": "code",
     "collapsed": false,
     "input": [],
     "language": "python",
     "metadata": {},
     "outputs": []
    }
   ],
   "metadata": {}
  }
 ]
}