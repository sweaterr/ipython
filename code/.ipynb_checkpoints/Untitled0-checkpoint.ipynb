{
 "metadata": {
  "name": "",
  "signature": "sha256:78f575f1f078f1eb2a3fb0b16065b1e46a071db869111df577fdaa61bce9bc9a"
 },
 "nbformat": 3,
 "nbformat_minor": 0,
 "worksheets": [
  {
   "cells": [
    {
     "cell_type": "markdown",
     "metadata": {},
     "source": []
    }
   ],
   "metadata": {}
  }
 ]
}