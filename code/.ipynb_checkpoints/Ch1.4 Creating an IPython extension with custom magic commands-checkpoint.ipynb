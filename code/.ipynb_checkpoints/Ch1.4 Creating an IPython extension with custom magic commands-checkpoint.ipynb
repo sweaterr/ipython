{
 "metadata": {
  "name": "",
  "signature": "sha256:5223fe4407f8c502fc7b70e10a65900e19923b3f917cbcfd07a905d496681f05"
 },
 "nbformat": 3,
 "nbformat_minor": 0,
 "worksheets": [
  {
   "cells": [
    {
     "cell_type": "code",
     "collapsed": false,
     "input": [
      "from IPython.core.magic import (register_line_magic, register_cell_magic)"
     ],
     "language": "python",
     "metadata": {},
     "outputs": [],
     "prompt_number": 4
    },
    {
     "cell_type": "code",
     "collapsed": false,
     "input": [
      "@register_line_magic \n",
      "def hello(line): \n",
      "    if line == 'french': \n",
      "        print(\"Salut tout le monde!\") \n",
      "    else: \n",
      "        print(\"Hello world!\")\n",
      "        \n",
      "%hello\n",
      "%hello french"
     ],
     "language": "python",
     "metadata": {},
     "outputs": [
      {
       "output_type": "stream",
       "stream": "stdout",
       "text": [
        "Hello world!\n",
        "Salut tout le monde!\n"
       ]
      }
     ],
     "prompt_number": 6
    },
    {
     "cell_type": "code",
     "collapsed": false,
     "input": [
      "import pandas as pd \n",
      "#from StringIO import StringIO # Python 2 \n",
      "from io import StringIO # Python 3 \n",
      "\n",
      "@register_cell_magic \n",
      "def csv(line, cell): \n",
      "    # We create a string buffer containing the \n",
      "    # contents of the cell. \n",
      "    sio = StringIO(cell) \n",
      "    # We use pandas' read_csv function to parse \n",
      "    # the CSV string. \n",
      "    return pd.read_csv(sio)\n",
      "\n",
      "%%csv\n"
     ],
     "language": "python",
     "metadata": {},
     "outputs": []
    }
   ],
   "metadata": {}
  }
 ]
}