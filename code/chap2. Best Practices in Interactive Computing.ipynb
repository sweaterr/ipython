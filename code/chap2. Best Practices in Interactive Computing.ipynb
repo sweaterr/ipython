{
 "metadata": {
  "name": "",
  "signature": "sha256:42da36c62e54a3d17cddd2f5b8091799c7a6b17042290dfc8409fb1f564c376c"
 },
 "nbformat": 3,
 "nbformat_minor": 0,
 "worksheets": [
  {
   "cells": [
    {
     "cell_type": "markdown",
     "metadata": {},
     "source": [
      "### Writing high-quality Python code \n",
      "1. Learn to write Pythonic code \n",
      "1. Learn common design patterns\n",
      "1. Use assertions throughout your code\n",
      "1. bottom-up approach\n",
      "1. Do not hesitate to refactor your code regularly. If your code is becoming too complicated, think about how you can simplify it.\n",
      "1. Avoid classes when you can. If you can use a function instead of a class\n",
      "1. In general, prefer Python native types (lists, tuples, dictionaries, and types from Python's collections module) \n",
      "1. Name your variables carefully.\n",
      "1. You can check your code automatically against most of the style conventions in PEP8 with the pep8 Python package. Install it with pip install pep8 and execute it with pep8 myscript.py.\n",
      "1. Use a tool for static code analysis such as Pylint (www.pylint.org). It lets you find potential errors or low-quality codestatically, that is, without running your code.\n",
      "1."
     ]
    },
    {
     "cell_type": "markdown",
     "metadata": {},
     "source": [
      "### Writing unit tests with nose"
     ]
    },
    {
     "cell_type": "code",
     "collapsed": false,
     "input": [
      "!pip install nose"
     ],
     "language": "python",
     "metadata": {},
     "outputs": [
      {
       "output_type": "stream",
       "stream": "stdout",
       "text": [
        "Requirement already satisfied (use --upgrade to upgrade): nose in /usr/local/lib/python2.7/site-packages/nose-1.3.4-py2.7.egg\r\n",
        "Cleaning up...\r\n"
       ]
      }
     ],
     "prompt_number": 4
    },
    {
     "cell_type": "code",
     "collapsed": false,
     "input": [
      "%%writefile datautils.py\n",
      "# Version 1.\n",
      "import os\n",
      "from urllib.request import urlopen  # Python 2: use urllib2\n",
      "\n",
      "def download(url):\n",
      "    \"\"\"Download a file and save it in the current folder.\n",
      "    Return the name of the downloaded file.\"\"\"\n",
      "    # Get the filename.\n",
      "    file = os.path.basename(url)\n",
      "    # Download the file unless it already exists.\n",
      "    if not os.path.exists(file):\n",
      "        with open(file, 'w') as f:\n",
      "            f.write(urlopen(url).read())\n",
      "    return file"
     ],
     "language": "python",
     "metadata": {},
     "outputs": [
      {
       "output_type": "stream",
       "stream": "stdout",
       "text": [
        "Overwriting datautils.py\n"
       ]
      }
     ],
     "prompt_number": 8
    },
    {
     "cell_type": "code",
     "collapsed": false,
     "input": [],
     "language": "python",
     "metadata": {},
     "outputs": []
    }
   ],
   "metadata": {}
  }
 ]
}